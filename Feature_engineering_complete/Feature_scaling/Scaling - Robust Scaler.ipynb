{
 "cells": [
  {
   "cell_type": "markdown",
   "id": "84208dba",
   "metadata": {},
   "source": [
    "## Feature Scaling \n",
    "\n",
    "4. Robust scaler"
   ]
  },
  {
   "cell_type": "code",
   "execution_count": 1,
   "id": "ff104f3f",
   "metadata": {},
   "outputs": [],
   "source": [
    "### Importing the libraries\n",
    "\n",
    "import pandas as pd\n",
    "import matplotlib.pyplot as plt"
   ]
  },
  {
   "cell_type": "code",
   "execution_count": 2,
   "id": "c32d27eb",
   "metadata": {},
   "outputs": [],
   "source": [
    "## Reading the dataset\n",
    "\n",
    "data = pd.read_csv('C:\\Feature_engineering_complete\\Datasets\\kaggle_diabetes.csv')"
   ]
  },
  {
   "cell_type": "code",
   "execution_count": 3,
   "id": "df6b57b5",
   "metadata": {},
   "outputs": [
    {
     "data": {
      "text/html": [
       "<div>\n",
       "<style scoped>\n",
       "    .dataframe tbody tr th:only-of-type {\n",
       "        vertical-align: middle;\n",
       "    }\n",
       "\n",
       "    .dataframe tbody tr th {\n",
       "        vertical-align: top;\n",
       "    }\n",
       "\n",
       "    .dataframe thead th {\n",
       "        text-align: right;\n",
       "    }\n",
       "</style>\n",
       "<table border=\"1\" class=\"dataframe\">\n",
       "  <thead>\n",
       "    <tr style=\"text-align: right;\">\n",
       "      <th></th>\n",
       "      <th>Pregnancies</th>\n",
       "      <th>Glucose</th>\n",
       "      <th>BloodPressure</th>\n",
       "      <th>SkinThickness</th>\n",
       "      <th>Insulin</th>\n",
       "      <th>BMI</th>\n",
       "      <th>DiabetesPedigreeFunction</th>\n",
       "      <th>Age</th>\n",
       "      <th>Outcome</th>\n",
       "    </tr>\n",
       "  </thead>\n",
       "  <tbody>\n",
       "    <tr>\n",
       "      <th>0</th>\n",
       "      <td>2</td>\n",
       "      <td>138</td>\n",
       "      <td>62</td>\n",
       "      <td>35</td>\n",
       "      <td>0</td>\n",
       "      <td>33.6</td>\n",
       "      <td>0.127</td>\n",
       "      <td>47</td>\n",
       "      <td>1</td>\n",
       "    </tr>\n",
       "    <tr>\n",
       "      <th>1</th>\n",
       "      <td>0</td>\n",
       "      <td>84</td>\n",
       "      <td>82</td>\n",
       "      <td>31</td>\n",
       "      <td>125</td>\n",
       "      <td>38.2</td>\n",
       "      <td>0.233</td>\n",
       "      <td>23</td>\n",
       "      <td>0</td>\n",
       "    </tr>\n",
       "    <tr>\n",
       "      <th>2</th>\n",
       "      <td>0</td>\n",
       "      <td>145</td>\n",
       "      <td>0</td>\n",
       "      <td>0</td>\n",
       "      <td>0</td>\n",
       "      <td>44.2</td>\n",
       "      <td>0.630</td>\n",
       "      <td>31</td>\n",
       "      <td>1</td>\n",
       "    </tr>\n",
       "    <tr>\n",
       "      <th>3</th>\n",
       "      <td>0</td>\n",
       "      <td>135</td>\n",
       "      <td>68</td>\n",
       "      <td>42</td>\n",
       "      <td>250</td>\n",
       "      <td>42.3</td>\n",
       "      <td>0.365</td>\n",
       "      <td>24</td>\n",
       "      <td>1</td>\n",
       "    </tr>\n",
       "    <tr>\n",
       "      <th>4</th>\n",
       "      <td>1</td>\n",
       "      <td>139</td>\n",
       "      <td>62</td>\n",
       "      <td>41</td>\n",
       "      <td>480</td>\n",
       "      <td>40.7</td>\n",
       "      <td>0.536</td>\n",
       "      <td>21</td>\n",
       "      <td>0</td>\n",
       "    </tr>\n",
       "  </tbody>\n",
       "</table>\n",
       "</div>"
      ],
      "text/plain": [
       "   Pregnancies  Glucose  BloodPressure  SkinThickness  Insulin   BMI  \\\n",
       "0            2      138             62             35        0  33.6   \n",
       "1            0       84             82             31      125  38.2   \n",
       "2            0      145              0              0        0  44.2   \n",
       "3            0      135             68             42      250  42.3   \n",
       "4            1      139             62             41      480  40.7   \n",
       "\n",
       "   DiabetesPedigreeFunction  Age  Outcome  \n",
       "0                     0.127   47        1  \n",
       "1                     0.233   23        0  \n",
       "2                     0.630   31        1  \n",
       "3                     0.365   24        1  \n",
       "4                     0.536   21        0  "
      ]
     },
     "execution_count": 3,
     "metadata": {},
     "output_type": "execute_result"
    }
   ],
   "source": [
    "data.head()"
   ]
  },
  {
   "cell_type": "code",
   "execution_count": 4,
   "id": "f38d0e2e",
   "metadata": {},
   "outputs": [
    {
     "data": {
      "text/plain": [
       "Pregnancies                 0\n",
       "Glucose                     0\n",
       "BloodPressure               0\n",
       "SkinThickness               0\n",
       "Insulin                     0\n",
       "BMI                         0\n",
       "DiabetesPedigreeFunction    0\n",
       "Age                         0\n",
       "Outcome                     0\n",
       "dtype: int64"
      ]
     },
     "execution_count": 4,
     "metadata": {},
     "output_type": "execute_result"
    }
   ],
   "source": [
    "data.isnull().sum()"
   ]
  },
  {
   "cell_type": "code",
   "execution_count": 5,
   "id": "4e7a8b95",
   "metadata": {},
   "outputs": [
    {
     "data": {
      "text/plain": [
       "(2000, 9)"
      ]
     },
     "execution_count": 5,
     "metadata": {},
     "output_type": "execute_result"
    }
   ],
   "source": [
    "data.shape"
   ]
  },
  {
   "cell_type": "markdown",
   "id": "708f4075",
   "metadata": {},
   "source": [
    "### Scaling is done on numerical features to get the same scale. "
   ]
  },
  {
   "cell_type": "code",
   "execution_count": 6,
   "id": "9c0857c3",
   "metadata": {},
   "outputs": [],
   "source": [
    "## Simple for loop for finding numerical features\n",
    "\n",
    "numerical_features = [x for x in data.columns if data[x].dtype!='O']"
   ]
  },
  {
   "cell_type": "code",
   "execution_count": 7,
   "id": "f09a524e",
   "metadata": {},
   "outputs": [
    {
     "data": {
      "text/plain": [
       "['Pregnancies',\n",
       " 'Glucose',\n",
       " 'BloodPressure',\n",
       " 'SkinThickness',\n",
       " 'Insulin',\n",
       " 'BMI',\n",
       " 'DiabetesPedigreeFunction',\n",
       " 'Age',\n",
       " 'Outcome']"
      ]
     },
     "execution_count": 7,
     "metadata": {},
     "output_type": "execute_result"
    }
   ],
   "source": [
    "numerical_features"
   ]
  },
  {
   "cell_type": "code",
   "execution_count": 8,
   "id": "47cc1982",
   "metadata": {},
   "outputs": [
    {
     "data": {
      "image/png": "[encoded data removed]",
      "text/plain": [
       "<Figure size 432x288 with 1 Axes>"
      ]
     },
     "metadata": {
      "needs_background": "light"
     },
     "output_type": "display_data"
    },
    {
     "data": {
      "image/png": "[encoded data removed]",
      "text/plain": [
       "<Figure size 432x288 with 1 Axes>"
      ]
     },
     "metadata": {
      "needs_background": "light"
     },
     "output_type": "display_data"
    },
    {
     "data": {
      "image/png": "[encoded data removed]",
      "text/plain": [
       "<Figure size 432x288 with 1 Axes>"
      ]
     },
     "metadata": {
      "needs_background": "light"
     },
     "output_type": "display_data"
    },
    {
     "data": {
      "image/png": "[encoded data removed]",
      "text/plain": [
       "<Figure size 432x288 with 1 Axes>"
      ]
     },
     "metadata": {
      "needs_background": "light"
     },
     "output_type": "display_data"
    },
    {
     "data": {
      "image/png": "[encoded data removed]",
      "text/plain": [
       "<Figure size 432x288 with 1 Axes>"
      ]
     },
     "metadata": {
      "needs_background": "light"
     },
     "output_type": "display_data"
    },
    {
     "data": {
      "image/png": "[encoded data removed]",
      "text/plain": [
       "<Figure size 432x288 with 1 Axes>"
      ]
     },
     "metadata": {
      "needs_background": "light"
     },
     "output_type": "display_data"
    },
    {
     "data": {
      "image/png": "[encoded data removed]",
      "text/plain": [
       "<Figure size 432x288 with 1 Axes>"
      ]
     },
     "metadata": {
      "needs_background": "light"
     },
     "output_type": "display_data"
    },
    {
     "data": {
      "image/png": "[encoded data removed]",
      "text/plain": [
       "<Figure size 432x288 with 1 Axes>"
      ]
     },
     "metadata": {
      "needs_background": "light"
     },
     "output_type": "display_data"
    },
    {
     "data": {
      "image/png": "[encoded data removed]",
      "text/plain": [
       "<Figure size 432x288 with 1 Axes>"
      ]
     },
     "metadata": {
      "needs_background": "light"
     },
     "output_type": "display_data"
    }
   ],
   "source": [
    "## Now lets plot these features \n",
    "\n",
    "for x in numerical_features:\n",
    "    data[x].plot.hist(bins=10)\n",
    "    plt.xlabel(x)\n",
    "    plt.ylabel('Freq')\n",
    "    plt.show()"
   ]
  },
  {
   "cell_type": "markdown",
   "id": "71297527",
   "metadata": {},
   "source": [
    "##### Robust Scaler\n",
    "It is used to scale the feature to median and quantiles\n",
    "Scaling using median and quantiles consists of substracting the median to all the observations, and then dividing by the interquantile difference. The interquantile difference is the difference between the 75th and 25th quantile:\n",
    "\n",
    "IQR = 75th quantile - 25th quantile\n",
    "\n",
    "X_scaled = (X - X.median) / IQR"
   ]
  },
  {
   "cell_type": "markdown",
   "id": "557e6239",
   "metadata": {},
   "source": [
    "### Implementing min max scaler on all X values. \n",
    "### It is good practice to fit_transform on X_train and only transform on X_test to avoid bias."
   ]
  },
  {
   "cell_type": "code",
   "execution_count": 9,
   "id": "97e5c1a8",
   "metadata": {},
   "outputs": [],
   "source": [
    "## Dependent and independent features\n",
    "X = data.drop('Outcome',axis=1)\n",
    "y = data['Outcome']"
   ]
  },
  {
   "cell_type": "code",
   "execution_count": 10,
   "id": "e7d47aa9",
   "metadata": {},
   "outputs": [],
   "source": [
    "## Train - test split\n",
    "\n",
    "from sklearn.model_selection import train_test_split\n",
    "\n",
    "\n",
    "X_train,X_test,y_train,y_test = train_test_split(X,y,test_size=0.3,random_state=2)"
   ]
  },
  {
   "cell_type": "code",
   "execution_count": 11,
   "id": "04e8edd4",
   "metadata": {},
   "outputs": [],
   "source": [
    "## Implementing Min max scaler\n",
    "\n",
    "from sklearn.preprocessing import RobustScaler\n",
    "\n",
    "scaler = RobustScaler()"
   ]
  },
  {
   "cell_type": "code",
   "execution_count": 12,
   "id": "1f1900eb",
   "metadata": {},
   "outputs": [],
   "source": [
    "X_train = scaler.fit_transform(X_train)\n",
    "\n",
    "X_test = scaler.transform(X_test)"
   ]
  },
  {
   "cell_type": "code",
   "execution_count": 13,
   "id": "877ce429",
   "metadata": {},
   "outputs": [
    {
     "data": {
      "text/html": [
       "<div>\n",
       "<style scoped>\n",
       "    .dataframe tbody tr th:only-of-type {\n",
       "        vertical-align: middle;\n",
       "    }\n",
       "\n",
       "    .dataframe tbody tr th {\n",
       "        vertical-align: top;\n",
       "    }\n",
       "\n",
       "    .dataframe thead th {\n",
       "        text-align: right;\n",
       "    }\n",
       "</style>\n",
       "<table border=\"1\" class=\"dataframe\">\n",
       "  <thead>\n",
       "    <tr style=\"text-align: right;\">\n",
       "      <th></th>\n",
       "      <th>Pregnancies</th>\n",
       "      <th>Glucose</th>\n",
       "      <th>BloodPressure</th>\n",
       "      <th>SkinThickness</th>\n",
       "      <th>Insulin</th>\n",
       "      <th>BMI</th>\n",
       "      <th>DiabetesPedigreeFunction</th>\n",
       "      <th>Age</th>\n",
       "    </tr>\n",
       "  </thead>\n",
       "  <tbody>\n",
       "    <tr>\n",
       "      <th>0</th>\n",
       "      <td>-0.6</td>\n",
       "      <td>-0.390244</td>\n",
       "      <td>-0.625</td>\n",
       "      <td>-0.71875</td>\n",
       "      <td>-0.338462</td>\n",
       "      <td>-1.109890</td>\n",
       "      <td>-0.125984</td>\n",
       "      <td>-0.2500</td>\n",
       "    </tr>\n",
       "    <tr>\n",
       "      <th>1</th>\n",
       "      <td>-0.2</td>\n",
       "      <td>-0.121951</td>\n",
       "      <td>-0.250</td>\n",
       "      <td>-0.03125</td>\n",
       "      <td>0.384615</td>\n",
       "      <td>0.230769</td>\n",
       "      <td>-0.181102</td>\n",
       "      <td>-0.1875</td>\n",
       "    </tr>\n",
       "    <tr>\n",
       "      <th>2</th>\n",
       "      <td>-0.4</td>\n",
       "      <td>-0.926829</td>\n",
       "      <td>0.500</td>\n",
       "      <td>0.06250</td>\n",
       "      <td>-0.053846</td>\n",
       "      <td>-0.725275</td>\n",
       "      <td>0.522310</td>\n",
       "      <td>-0.4375</td>\n",
       "    </tr>\n",
       "    <tr>\n",
       "      <th>3</th>\n",
       "      <td>0.6</td>\n",
       "      <td>-0.365854</td>\n",
       "      <td>0.625</td>\n",
       "      <td>-0.71875</td>\n",
       "      <td>-0.338462</td>\n",
       "      <td>-0.131868</td>\n",
       "      <td>-0.535433</td>\n",
       "      <td>0.4375</td>\n",
       "    </tr>\n",
       "    <tr>\n",
       "      <th>4</th>\n",
       "      <td>-0.4</td>\n",
       "      <td>-0.536585</td>\n",
       "      <td>0.625</td>\n",
       "      <td>0.06250</td>\n",
       "      <td>1.046154</td>\n",
       "      <td>0.329670</td>\n",
       "      <td>-0.396325</td>\n",
       "      <td>0.8750</td>\n",
       "    </tr>\n",
       "    <tr>\n",
       "      <th>...</th>\n",
       "      <td>...</td>\n",
       "      <td>...</td>\n",
       "      <td>...</td>\n",
       "      <td>...</td>\n",
       "      <td>...</td>\n",
       "      <td>...</td>\n",
       "      <td>...</td>\n",
       "      <td>...</td>\n",
       "    </tr>\n",
       "    <tr>\n",
       "      <th>1395</th>\n",
       "      <td>0.6</td>\n",
       "      <td>0.902439</td>\n",
       "      <td>0.125</td>\n",
       "      <td>0.28125</td>\n",
       "      <td>1.146154</td>\n",
       "      <td>-0.296703</td>\n",
       "      <td>1.194226</td>\n",
       "      <td>0.6250</td>\n",
       "    </tr>\n",
       "    <tr>\n",
       "      <th>1396</th>\n",
       "      <td>1.2</td>\n",
       "      <td>1.170732</td>\n",
       "      <td>1.000</td>\n",
       "      <td>-0.71875</td>\n",
       "      <td>-0.338462</td>\n",
       "      <td>-0.175824</td>\n",
       "      <td>-0.215223</td>\n",
       "      <td>1.2500</td>\n",
       "    </tr>\n",
       "    <tr>\n",
       "      <th>1397</th>\n",
       "      <td>0.2</td>\n",
       "      <td>0.195122</td>\n",
       "      <td>-0.125</td>\n",
       "      <td>-0.15625</td>\n",
       "      <td>0.600000</td>\n",
       "      <td>-0.340659</td>\n",
       "      <td>1.994751</td>\n",
       "      <td>1.0000</td>\n",
       "    </tr>\n",
       "    <tr>\n",
       "      <th>1398</th>\n",
       "      <td>0.0</td>\n",
       "      <td>-0.024390</td>\n",
       "      <td>0.125</td>\n",
       "      <td>-0.25000</td>\n",
       "      <td>0.469231</td>\n",
       "      <td>-0.626374</td>\n",
       "      <td>-0.727034</td>\n",
       "      <td>-0.3125</td>\n",
       "    </tr>\n",
       "    <tr>\n",
       "      <th>1399</th>\n",
       "      <td>0.2</td>\n",
       "      <td>-0.536585</td>\n",
       "      <td>-0.750</td>\n",
       "      <td>0.28125</td>\n",
       "      <td>-0.338462</td>\n",
       "      <td>0.373626</td>\n",
       "      <td>-0.262467</td>\n",
       "      <td>-0.0625</td>\n",
       "    </tr>\n",
       "  </tbody>\n",
       "</table>\n",
       "<p>1400 rows × 8 columns</p>\n",
       "</div>"
      ],
      "text/plain": [
       "      Pregnancies   Glucose  BloodPressure  SkinThickness   Insulin       BMI  \\\n",
       "0            -0.6 -0.390244         -0.625       -0.71875 -0.338462 -1.109890   \n",
       "1            -0.2 -0.121951         -0.250       -0.03125  0.384615  0.230769   \n",
       "2            -0.4 -0.926829          0.500        0.06250 -0.053846 -0.725275   \n",
       "3             0.6 -0.365854          0.625       -0.71875 -0.338462 -0.131868   \n",
       "4            -0.4 -0.536585          0.625        0.06250  1.046154  0.329670   \n",
       "...           ...       ...            ...            ...       ...       ...   \n",
       "1395          0.6  0.902439          0.125        0.28125  1.146154 -0.296703   \n",
       "1396          1.2  1.170732          1.000       -0.71875 -0.338462 -0.175824   \n",
       "1397          0.2  0.195122         -0.125       -0.15625  0.600000 -0.340659   \n",
       "1398          0.0 -0.024390          0.125       -0.25000  0.469231 -0.626374   \n",
       "1399          0.2 -0.536585         -0.750        0.28125 -0.338462  0.373626   \n",
       "\n",
       "      DiabetesPedigreeFunction     Age  \n",
       "0                    -0.125984 -0.2500  \n",
       "1                    -0.181102 -0.1875  \n",
       "2                     0.522310 -0.4375  \n",
       "3                    -0.535433  0.4375  \n",
       "4                    -0.396325  0.8750  \n",
       "...                        ...     ...  \n",
       "1395                  1.194226  0.6250  \n",
       "1396                 -0.215223  1.2500  \n",
       "1397                  1.994751  1.0000  \n",
       "1398                 -0.727034 -0.3125  \n",
       "1399                 -0.262467 -0.0625  \n",
       "\n",
       "[1400 rows x 8 columns]"
      ]
     },
     "execution_count": 13,
     "metadata": {},
     "output_type": "execute_result"
    }
   ],
   "source": [
    "pd.DataFrame(X_train,columns=X.columns)"
   ]
  },
  {
   "cell_type": "code",
   "execution_count": 14,
   "id": "03d471aa",
   "metadata": {},
   "outputs": [
    {
     "data": {
      "text/html": [
       "<div>\n",
       "<style scoped>\n",
       "    .dataframe tbody tr th:only-of-type {\n",
       "        vertical-align: middle;\n",
       "    }\n",
       "\n",
       "    .dataframe tbody tr th {\n",
       "        vertical-align: top;\n",
       "    }\n",
       "\n",
       "    .dataframe thead th {\n",
       "        text-align: right;\n",
       "    }\n",
       "</style>\n",
       "<table border=\"1\" class=\"dataframe\">\n",
       "  <thead>\n",
       "    <tr style=\"text-align: right;\">\n",
       "      <th></th>\n",
       "      <th>Pregnancies</th>\n",
       "      <th>Glucose</th>\n",
       "      <th>BloodPressure</th>\n",
       "      <th>SkinThickness</th>\n",
       "      <th>Insulin</th>\n",
       "      <th>BMI</th>\n",
       "      <th>DiabetesPedigreeFunction</th>\n",
       "      <th>Age</th>\n",
       "    </tr>\n",
       "  </thead>\n",
       "  <tbody>\n",
       "    <tr>\n",
       "      <th>0</th>\n",
       "      <td>0.4</td>\n",
       "      <td>-0.073171</td>\n",
       "      <td>0.1250</td>\n",
       "      <td>-0.71875</td>\n",
       "      <td>-0.338462</td>\n",
       "      <td>-0.780220</td>\n",
       "      <td>0.944882</td>\n",
       "      <td>1.7500</td>\n",
       "    </tr>\n",
       "    <tr>\n",
       "      <th>1</th>\n",
       "      <td>0.2</td>\n",
       "      <td>-0.439024</td>\n",
       "      <td>-0.2500</td>\n",
       "      <td>0.46875</td>\n",
       "      <td>-0.338462</td>\n",
       "      <td>0.087912</td>\n",
       "      <td>-0.627297</td>\n",
       "      <td>0.2500</td>\n",
       "    </tr>\n",
       "    <tr>\n",
       "      <th>2</th>\n",
       "      <td>0.0</td>\n",
       "      <td>-0.829268</td>\n",
       "      <td>-0.8750</td>\n",
       "      <td>0.25000</td>\n",
       "      <td>-0.200000</td>\n",
       "      <td>0.252747</td>\n",
       "      <td>-0.125984</td>\n",
       "      <td>-0.2500</td>\n",
       "    </tr>\n",
       "    <tr>\n",
       "      <th>3</th>\n",
       "      <td>1.0</td>\n",
       "      <td>-0.170732</td>\n",
       "      <td>0.2500</td>\n",
       "      <td>-0.71875</td>\n",
       "      <td>-0.338462</td>\n",
       "      <td>-0.461538</td>\n",
       "      <td>-0.385827</td>\n",
       "      <td>1.8125</td>\n",
       "    </tr>\n",
       "    <tr>\n",
       "      <th>4</th>\n",
       "      <td>0.6</td>\n",
       "      <td>0.487805</td>\n",
       "      <td>-0.6875</td>\n",
       "      <td>-0.71875</td>\n",
       "      <td>-0.338462</td>\n",
       "      <td>-0.857143</td>\n",
       "      <td>-0.611549</td>\n",
       "      <td>1.6250</td>\n",
       "    </tr>\n",
       "    <tr>\n",
       "      <th>...</th>\n",
       "      <td>...</td>\n",
       "      <td>...</td>\n",
       "      <td>...</td>\n",
       "      <td>...</td>\n",
       "      <td>...</td>\n",
       "      <td>...</td>\n",
       "      <td>...</td>\n",
       "      <td>...</td>\n",
       "    </tr>\n",
       "    <tr>\n",
       "      <th>595</th>\n",
       "      <td>-0.6</td>\n",
       "      <td>-0.243902</td>\n",
       "      <td>-0.7500</td>\n",
       "      <td>0.06250</td>\n",
       "      <td>-0.338462</td>\n",
       "      <td>-0.615385</td>\n",
       "      <td>-0.658793</td>\n",
       "      <td>-0.3750</td>\n",
       "    </tr>\n",
       "    <tr>\n",
       "      <th>596</th>\n",
       "      <td>-0.4</td>\n",
       "      <td>0.170732</td>\n",
       "      <td>-0.7500</td>\n",
       "      <td>0.28125</td>\n",
       "      <td>-0.338462</td>\n",
       "      <td>0.417582</td>\n",
       "      <td>0.341207</td>\n",
       "      <td>-0.5000</td>\n",
       "    </tr>\n",
       "    <tr>\n",
       "      <th>597</th>\n",
       "      <td>1.2</td>\n",
       "      <td>0.951220</td>\n",
       "      <td>0.8750</td>\n",
       "      <td>0.15625</td>\n",
       "      <td>0.853846</td>\n",
       "      <td>0.252747</td>\n",
       "      <td>2.112861</td>\n",
       "      <td>0.8125</td>\n",
       "    </tr>\n",
       "    <tr>\n",
       "      <th>598</th>\n",
       "      <td>-0.4</td>\n",
       "      <td>0.073171</td>\n",
       "      <td>0.5000</td>\n",
       "      <td>0.78125</td>\n",
       "      <td>1.200000</td>\n",
       "      <td>0.758242</td>\n",
       "      <td>2.041995</td>\n",
       "      <td>0.7500</td>\n",
       "    </tr>\n",
       "    <tr>\n",
       "      <th>599</th>\n",
       "      <td>1.0</td>\n",
       "      <td>-0.195122</td>\n",
       "      <td>0.2500</td>\n",
       "      <td>0.50000</td>\n",
       "      <td>0.538462</td>\n",
       "      <td>-0.450549</td>\n",
       "      <td>0.671916</td>\n",
       "      <td>0.1250</td>\n",
       "    </tr>\n",
       "  </tbody>\n",
       "</table>\n",
       "<p>600 rows × 8 columns</p>\n",
       "</div>"
      ],
      "text/plain": [
       "     Pregnancies   Glucose  BloodPressure  SkinThickness   Insulin       BMI  \\\n",
       "0            0.4 -0.073171         0.1250       -0.71875 -0.338462 -0.780220   \n",
       "1            0.2 -0.439024        -0.2500        0.46875 -0.338462  0.087912   \n",
       "2            0.0 -0.829268        -0.8750        0.25000 -0.200000  0.252747   \n",
       "3            1.0 -0.170732         0.2500       -0.71875 -0.338462 -0.461538   \n",
       "4            0.6  0.487805        -0.6875       -0.71875 -0.338462 -0.857143   \n",
       "..           ...       ...            ...            ...       ...       ...   \n",
       "595         -0.6 -0.243902        -0.7500        0.06250 -0.338462 -0.615385   \n",
       "596         -0.4  0.170732        -0.7500        0.28125 -0.338462  0.417582   \n",
       "597          1.2  0.951220         0.8750        0.15625  0.853846  0.252747   \n",
       "598         -0.4  0.073171         0.5000        0.78125  1.200000  0.758242   \n",
       "599          1.0 -0.195122         0.2500        0.50000  0.538462 -0.450549   \n",
       "\n",
       "     DiabetesPedigreeFunction     Age  \n",
       "0                    0.944882  1.7500  \n",
       "1                   -0.627297  0.2500  \n",
       "2                   -0.125984 -0.2500  \n",
       "3                   -0.385827  1.8125  \n",
       "4                   -0.611549  1.6250  \n",
       "..                        ...     ...  \n",
       "595                 -0.658793 -0.3750  \n",
       "596                  0.341207 -0.5000  \n",
       "597                  2.112861  0.8125  \n",
       "598                  2.041995  0.7500  \n",
       "599                  0.671916  0.1250  \n",
       "\n",
       "[600 rows x 8 columns]"
      ]
     },
     "execution_count": 14,
     "metadata": {},
     "output_type": "execute_result"
    }
   ],
   "source": [
    "pd.DataFrame(X_test,columns=X.columns)"
   ]
  },
  {
   "cell_type": "markdown",
   "id": "4eb58298",
   "metadata": {},
   "source": [
    "### You could use RobustScaler if you have outliers and want to reduce their influence. However, you might be better off removing the outliers, instead"
   ]
  },
  {
   "cell_type": "code",
   "execution_count": null,
   "id": "7c9a10a5",
   "metadata": {},
   "outputs": [],
   "source": []
  }
 ],
 "metadata": {
  "kernelspec": {
   "display_name": "Python 3",
   "language": "python",
   "name": "python3"
  },
  "language_info": {
   "codemirror_mode": {
    "name": "ipython",
    "version": 3
   },
   "file_extension": ".py",
   "mimetype": "text/x-python",
   "name": "python",
   "nbconvert_exporter": "python",
   "pygments_lexer": "ipython3",
   "version": "3.8.10"
  }
 },
 "nbformat": 4,
 "nbformat_minor": 5
}
