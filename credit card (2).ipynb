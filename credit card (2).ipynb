{
 "cells": [
  {
   "cell_type": "markdown",
   "id": "59a4180f",
   "metadata": {},
   "source": [
    "## Model prediction and Evaluation.\n"
   ]
  },
  {
   "cell_type": "code",
   "execution_count": 1,
   "id": "96cb6db7",
   "metadata": {},
   "outputs": [],
   "source": [
    "import pandas as pd\n",
    "import numpy as np\n"
   ]
  },
  {
   "cell_type": "code",
   "execution_count": 26,
   "id": "0a178ea4",
   "metadata": {},
   "outputs": [],
   "source": [
    "X_train_os = pd.read_csv('X_train_os.csv')\n",
    "y_train_os = pd.read_csv('y_train_os.csv')\n",
    "X_test = pd.read_csv('X_test.csv')\n",
    "y_test = pd.read_csv('y_test.csv')\n",
    "\n",
    "y_train_os = y_train_os['Class']\n",
    "y_test = y_test['Class']\n"
   ]
  },
  {
   "cell_type": "code",
   "execution_count": 25,
   "id": "9e164bf8",
   "metadata": {},
   "outputs": [],
   "source": [
    "\n",
    "X_train = pd.read_csv('X_train.csv')\n",
    "y_train = pd.read_csv('y_train.csv')"
   ]
  },
  {
   "cell_type": "markdown",
   "id": "6cec688b",
   "metadata": {},
   "source": [
    "### Training with Logistic Regression"
   ]
  },
  {
   "cell_type": "code",
   "execution_count": 9,
   "id": "696336f8",
   "metadata": {},
   "outputs": [],
   "source": [
    "from sklearn.linear_model import LogisticRegression"
   ]
  },
  {
   "cell_type": "code",
   "execution_count": 10,
   "id": "370811e0",
   "metadata": {},
   "outputs": [],
   "source": [
    "LR = LogisticRegression()"
   ]
  },
  {
   "cell_type": "code",
   "execution_count": 11,
   "id": "45a55b65",
   "metadata": {},
   "outputs": [],
   "source": [
    "LR.fit(X_train_os,y_train_os)\n",
    "y_pred = LR.predict(X_test)"
   ]
  },
  {
   "cell_type": "code",
   "execution_count": 12,
   "id": "3b7eed18",
   "metadata": {},
   "outputs": [
    {
     "data": {
      "text/plain": [
       "0.9954355214741158"
      ]
     },
     "execution_count": 12,
     "metadata": {},
     "output_type": "execute_result"
    }
   ],
   "source": [
    "LR.score(X_test,y_test)"
   ]
  },
  {
   "cell_type": "code",
   "execution_count": 13,
   "id": "4bc6cf28",
   "metadata": {},
   "outputs": [],
   "source": [
    "from sklearn import metrics\n",
    "from sklearn.metrics import roc_curve"
   ]
  },
  {
   "cell_type": "code",
   "execution_count": 14,
   "id": "f1363263",
   "metadata": {},
   "outputs": [],
   "source": [
    "fpr1, tpr1, thresh1 = roc_curve(y_test, y_pred, pos_label=1)"
   ]
  },
  {
   "cell_type": "code",
   "execution_count": 15,
   "id": "07db64fe",
   "metadata": {},
   "outputs": [],
   "source": [
    "from sklearn.metrics import roc_auc_score"
   ]
  },
  {
   "cell_type": "code",
   "execution_count": 18,
   "id": "1572baf0",
   "metadata": {},
   "outputs": [],
   "source": [
    "auc_score1 = roc_auc_score(y_test, y_pred)"
   ]
  },
  {
   "cell_type": "code",
   "execution_count": 19,
   "id": "9b53260e",
   "metadata": {},
   "outputs": [
    {
     "data": {
      "text/plain": [
       "0.9077647719880915"
      ]
     },
     "execution_count": 19,
     "metadata": {},
     "output_type": "execute_result"
    }
   ],
   "source": [
    "auc_score1"
   ]
  },
  {
   "cell_type": "markdown",
   "id": "b84e57ce",
   "metadata": {},
   "source": [
    "## Hyper parameter tuning using Kfold and grid search"
   ]
  },
  {
   "cell_type": "code",
   "execution_count": 20,
   "id": "fbb2519f",
   "metadata": {},
   "outputs": [],
   "source": [
    "from sklearn.model_selection import KFold\n",
    "from sklearn.model_selection import GridSearchCV"
   ]
  },
  {
   "cell_type": "code",
   "execution_count": 29,
   "id": "664ef55b",
   "metadata": {},
   "outputs": [],
   "source": [
    "grid = {'C':10.0**np.arange(-2,3),'penalty':['l2']}"
   ]
  },
  {
   "cell_type": "code",
   "execution_count": 30,
   "id": "a736ebac",
   "metadata": {},
   "outputs": [],
   "source": [
    "cv = KFold(n_splits=5)"
   ]
  },
  {
   "cell_type": "code",
   "execution_count": 31,
   "id": "fee22d15",
   "metadata": {},
   "outputs": [],
   "source": [
    "cf = GridSearchCV(LR,param_grid= grid,n_jobs=-1,cv=cv,scoring='f1_macro')"
   ]
  },
  {
   "cell_type": "code",
   "execution_count": 33,
   "id": "5466c84d",
   "metadata": {},
   "outputs": [
    {
     "name": "stderr",
     "output_type": "stream",
     "text": [
      "C:\\Users\\VASU\\anaconda3\\lib\\site-packages\\sklearn\\linear_model\\_logistic.py:763: ConvergenceWarning: lbfgs failed to converge (status=1):\n",
      "STOP: TOTAL NO. of ITERATIONS REACHED LIMIT.\n",
      "\n",
      "Increase the number of iterations (max_iter) or scale the data as shown in:\n",
      "    https://scikit-learn.org/stable/modules/preprocessing.html\n",
      "Please also refer to the documentation for alternative solver options:\n",
      "    https://scikit-learn.org/stable/modules/linear_model.html#logistic-regression\n",
      "  n_iter_i = _check_optimize_result(\n"
     ]
    },
    {
     "data": {
      "text/plain": [
       "GridSearchCV(cv=KFold(n_splits=5, random_state=None, shuffle=False),\n",
       "             estimator=LogisticRegression(), n_jobs=-1,\n",
       "             param_grid={'C': array([1.e-02, 1.e-01, 1.e+00, 1.e+01, 1.e+02]),\n",
       "                         'penalty': ['l2']},\n",
       "             scoring='f1_macro')"
      ]
     },
     "execution_count": 33,
     "metadata": {},
     "output_type": "execute_result"
    }
   ],
   "source": [
    "cf.fit(X_train,y_train['Class'])"
   ]
  },
  {
   "cell_type": "code",
   "execution_count": 34,
   "id": "1ef3c361",
   "metadata": {},
   "outputs": [],
   "source": [
    "y_pred1 = cf.predict(X_test)"
   ]
  },
  {
   "cell_type": "code",
   "execution_count": 36,
   "id": "58b4086e",
   "metadata": {},
   "outputs": [],
   "source": [
    "auc_score2 = roc_auc_score(y_test, y_pred1)"
   ]
  },
  {
   "cell_type": "code",
   "execution_count": 37,
   "id": "4a787f05",
   "metadata": {},
   "outputs": [
    {
     "data": {
      "text/plain": [
       "0.7882109226583209"
      ]
     },
     "execution_count": 37,
     "metadata": {},
     "output_type": "execute_result"
    }
   ],
   "source": [
    "auc_score2 "
   ]
  },
  {
   "cell_type": "markdown",
   "id": "c617e05e",
   "metadata": {},
   "source": [
    "### Hyperparametertuning with SMOTETOMek"
   ]
  },
  {
   "cell_type": "code",
   "execution_count": 38,
   "id": "849e1140",
   "metadata": {},
   "outputs": [
    {
     "data": {
      "text/plain": [
       "GridSearchCV(cv=KFold(n_splits=5, random_state=None, shuffle=False),\n",
       "             estimator=LogisticRegression(), n_jobs=-1,\n",
       "             param_grid={'C': array([1.e-02, 1.e-01, 1.e+00, 1.e+01, 1.e+02]),\n",
       "                         'penalty': ['l2']},\n",
       "             scoring='f1_macro')"
      ]
     },
     "execution_count": 38,
     "metadata": {},
     "output_type": "execute_result"
    }
   ],
   "source": [
    "cf.fit(X_train_os,y_train_os)"
   ]
  },
  {
   "cell_type": "code",
   "execution_count": 39,
   "id": "59630ff2",
   "metadata": {},
   "outputs": [],
   "source": [
    "y_pred2 = cf.predict(X_test)"
   ]
  },
  {
   "cell_type": "code",
   "execution_count": 40,
   "id": "03c1df4e",
   "metadata": {},
   "outputs": [],
   "source": [
    "auc_score3 = roc_auc_score(y_test, y_pred2)"
   ]
  },
  {
   "cell_type": "code",
   "execution_count": 41,
   "id": "2868d34c",
   "metadata": {},
   "outputs": [
    {
     "data": {
      "text/plain": [
       "0.8781462814884767"
      ]
     },
     "execution_count": 41,
     "metadata": {},
     "output_type": "execute_result"
    }
   ],
   "source": [
    "auc_score3"
   ]
  },
  {
   "cell_type": "markdown",
   "id": "b1fb528f",
   "metadata": {},
   "source": [
    "## Hyperparameter tuning with ensemble techniques"
   ]
  },
  {
   "cell_type": "code",
   "execution_count": 42,
   "id": "ad29fe15",
   "metadata": {},
   "outputs": [],
   "source": [
    "from sklearn.ensemble import RandomForestClassifier"
   ]
  },
  {
   "cell_type": "code",
   "execution_count": 48,
   "id": "b55f64ab",
   "metadata": {},
   "outputs": [],
   "source": [
    "Rf = RandomForestClassifier()\n",
    "\n",
    "grid1 = {'n_estimators':np.arange(100,1000,50),'max_depth':np.arange(300,700,50),'n_jobs':[-1],'max_features':np.arange(15,31,1),'max_leaf_nodes':np.arange(2,7,1)}"
   ]
  },
  {
   "cell_type": "code",
   "execution_count": 49,
   "id": "4d065b14",
   "metadata": {},
   "outputs": [],
   "source": [
    "cv = KFold(n_splits=5)"
   ]
  },
  {
   "cell_type": "code",
   "execution_count": 52,
   "id": "10dfa6bf",
   "metadata": {},
   "outputs": [],
   "source": [
    "rf = GridSearchCV(Rf,param_grid= grid1,n_jobs=-1,cv=cv,scoring='f1_macro')"
   ]
  },
  {
   "cell_type": "code",
   "execution_count": null,
   "id": "edf41fa2",
   "metadata": {},
   "outputs": [],
   "source": [
    "rf.fit(X_train_os,y_train_os)"
   ]
  },
  {
   "cell_type": "code",
   "execution_count": null,
   "id": "263d2d31",
   "metadata": {},
   "outputs": [],
   "source": []
  }
 ],
 "metadata": {
  "kernelspec": {
   "display_name": "Python 3",
   "language": "python",
   "name": "python3"
  },
  "language_info": {
   "codemirror_mode": {
    "name": "ipython",
    "version": 3
   },
   "file_extension": ".py",
   "mimetype": "text/x-python",
   "name": "python",
   "nbconvert_exporter": "python",
   "pygments_lexer": "ipython3",
   "version": "3.8.5"
  }
 },
 "nbformat": 4,
 "nbformat_minor": 5
}
