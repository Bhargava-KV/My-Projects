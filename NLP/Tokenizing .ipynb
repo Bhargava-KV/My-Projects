{
 "cells": [
  {
   "cell_type": "code",
   "execution_count": 3,
   "id": "baa159c6",
   "metadata": {},
   "outputs": [],
   "source": [
    "## Importing the libraries\n",
    "\n",
    "import nltk\n"
   ]
  },
  {
   "cell_type": "code",
   "execution_count": 4,
   "id": "9d9e84c5",
   "metadata": {},
   "outputs": [],
   "source": [
    "\n",
    "paragraph = '''\n",
    "The first sentence of the paragraph should generally be a 'strong' one, \n",
    "used to signal or indicate the idea to be discussed within the paragraph. \n",
    "Think of a 'topic sentence', as it has also been called, which will highlight the main areas examined in a particular paragraph. \n",
    "Connecting and signposting words and phrases should be learnt, used, and practised\n",
    " (examples are 'furthermore', 'moreover', 'in addition', 'to qualify the above', 'however', 'in order to', 'in this connection', 'having established that' etc.). \n",
    " The argument should develop through the language you use and therefore in a short essay sub-headings are unnecessary.'''\n"
   ]
  },
  {
   "cell_type": "code",
   "execution_count": 5,
   "id": "06064144",
   "metadata": {},
   "outputs": [],
   "source": [
    "## Sentence tokenizing\n",
    "\n",
    "sentences = nltk.sent_tokenize(paragraph)\n",
    "\n",
    "## Word tokenizing\n",
    "words = nltk.word_tokenize(paragraph)"
   ]
  },
  {
   "cell_type": "code",
   "execution_count": 6,
   "id": "4b72f430",
   "metadata": {},
   "outputs": [
    {
     "data": {
      "text/plain": [
       "[\"\\nThe first sentence of the paragraph should generally be a 'strong' one, \\nused to signal or indicate the idea to be discussed within the paragraph.\",\n",
       " \"Think of a 'topic sentence', as it has also been called, which will highlight the main areas examined in a particular paragraph.\",\n",
       " \"Connecting and signposting words and phrases should be learnt, used, and practised\\n (examples are 'furthermore', 'moreover', 'in addition', 'to qualify the above', 'however', 'in order to', 'in this connection', 'having established that' etc.).\",\n",
       " 'The argument should develop through the language you use and therefore in a short essay sub-headings are unnecessary.']"
      ]
     },
     "execution_count": 6,
     "metadata": {},
     "output_type": "execute_result"
    }
   ],
   "source": [
    "sentences"
   ]
  },
  {
   "cell_type": "code",
   "execution_count": 7,
   "id": "287da86f",
   "metadata": {},
   "outputs": [
    {
     "data": {
      "text/plain": [
       "['The',\n",
       " 'first',\n",
       " 'sentence',\n",
       " 'of',\n",
       " 'the',\n",
       " 'paragraph',\n",
       " 'should',\n",
       " 'generally',\n",
       " 'be',\n",
       " 'a',\n",
       " \"'strong\",\n",
       " \"'\",\n",
       " 'one',\n",
       " ',',\n",
       " 'used',\n",
       " 'to',\n",
       " 'signal',\n",
       " 'or',\n",
       " 'indicate',\n",
       " 'the',\n",
       " 'idea',\n",
       " 'to',\n",
       " 'be',\n",
       " 'discussed',\n",
       " 'within',\n",
       " 'the',\n",
       " 'paragraph',\n",
       " '.',\n",
       " 'Think',\n",
       " 'of',\n",
       " 'a',\n",
       " \"'topic\",\n",
       " 'sentence',\n",
       " \"'\",\n",
       " ',',\n",
       " 'as',\n",
       " 'it',\n",
       " 'has',\n",
       " 'also',\n",
       " 'been',\n",
       " 'called',\n",
       " ',',\n",
       " 'which',\n",
       " 'will',\n",
       " 'highlight',\n",
       " 'the',\n",
       " 'main',\n",
       " 'areas',\n",
       " 'examined',\n",
       " 'in',\n",
       " 'a',\n",
       " 'particular',\n",
       " 'paragraph',\n",
       " '.',\n",
       " 'Connecting',\n",
       " 'and',\n",
       " 'signposting',\n",
       " 'words',\n",
       " 'and',\n",
       " 'phrases',\n",
       " 'should',\n",
       " 'be',\n",
       " 'learnt',\n",
       " ',',\n",
       " 'used',\n",
       " ',',\n",
       " 'and',\n",
       " 'practised',\n",
       " '(',\n",
       " 'examples',\n",
       " 'are',\n",
       " \"'furthermore\",\n",
       " \"'\",\n",
       " ',',\n",
       " \"'moreover\",\n",
       " \"'\",\n",
       " ',',\n",
       " \"'in\",\n",
       " 'addition',\n",
       " \"'\",\n",
       " ',',\n",
       " \"'to\",\n",
       " 'qualify',\n",
       " 'the',\n",
       " 'above',\n",
       " \"'\",\n",
       " ',',\n",
       " \"'however\",\n",
       " \"'\",\n",
       " ',',\n",
       " \"'in\",\n",
       " 'order',\n",
       " 'to',\n",
       " \"'\",\n",
       " ',',\n",
       " \"'in\",\n",
       " 'this',\n",
       " 'connection',\n",
       " \"'\",\n",
       " ',',\n",
       " \"'having\",\n",
       " 'established',\n",
       " 'that',\n",
       " \"'\",\n",
       " 'etc.',\n",
       " ')',\n",
       " '.',\n",
       " 'The',\n",
       " 'argument',\n",
       " 'should',\n",
       " 'develop',\n",
       " 'through',\n",
       " 'the',\n",
       " 'language',\n",
       " 'you',\n",
       " 'use',\n",
       " 'and',\n",
       " 'therefore',\n",
       " 'in',\n",
       " 'a',\n",
       " 'short',\n",
       " 'essay',\n",
       " 'sub-headings',\n",
       " 'are',\n",
       " 'unnecessary',\n",
       " '.']"
      ]
     },
     "execution_count": 7,
     "metadata": {},
     "output_type": "execute_result"
    }
   ],
   "source": [
    "words"
   ]
  }
 ],
 "metadata": {
  "kernelspec": {
   "display_name": "Python 3",
   "language": "python",
   "name": "python3"
  },
  "language_info": {
   "codemirror_mode": {
    "name": "ipython",
    "version": 3
   },
   "file_extension": ".py",
   "mimetype": "text/x-python",
   "name": "python",
   "nbconvert_exporter": "python",
   "pygments_lexer": "ipython3",
   "version": "3.8.10"
  }
 },
 "nbformat": 4,
 "nbformat_minor": 5
}
