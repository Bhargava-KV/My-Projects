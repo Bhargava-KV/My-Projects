{
 "cells": [
  {
   "cell_type": "markdown",
   "id": "a15f0094",
   "metadata": {},
   "source": [
    "### Stemming and Lemmatization"
   ]
  },
  {
   "cell_type": "code",
   "execution_count": 1,
   "id": "26dc19bc",
   "metadata": {},
   "outputs": [],
   "source": [
    "## Importing the libraries\n",
    "\n",
    "import nltk\n",
    "\n"
   ]
  },
  {
   "cell_type": "code",
   "execution_count": 2,
   "id": "e4f7c2d0",
   "metadata": {},
   "outputs": [],
   "source": [
    "## Defining a paragraph\n",
    "\n",
    "paragraph = '''What makes me angry is that when someone is not on time. I have always had a habit to be on time and when someone doesn't do the same I am really angry.\n",
    "\n",
    "It is with my friends as well I give them time to meet me at 2 for instance and they are late I will leave and will not wait for them any more minute.\n",
    "\n",
    "I think everyone should make it their habit to be on time because it is a good and healthy activity. Making someone wait is not a good habit.\n",
    "\n",
    "The reason why this makes me angry is that this indicates you are not respecting the other person, the other person should be your priority and in order to show someone that they are really important and they matter to you, respect them by meeting them on the time you gave them.\n",
    "'''\n",
    "\n"
   ]
  },
  {
   "cell_type": "code",
   "execution_count": 3,
   "id": "c5aea94a",
   "metadata": {},
   "outputs": [],
   "source": [
    "#from nltk.stem import PorterStemmer\n",
    "from nltk.corpus import stopwords\n",
    "from nltk.stem import WordNetLemmatizer"
   ]
  },
  {
   "cell_type": "code",
   "execution_count": 6,
   "id": "c2a03536",
   "metadata": {},
   "outputs": [],
   "source": [
    "## Data preprocessing and cleaning\n",
    "\n",
    "sentences = nltk.sent_tokenize(paragraph)\n",
    "#stemmer = PorterStemmer()\n",
    "lemmatize = WordNetLemmatizer()\n",
    "\n",
    "for i in range(len(sentences)):\n",
    "    words = nltk.word_tokenize(sentences[i])\n",
    "    #words = [stemmer.stem(word) for word in words if word not in set(stopwords.words('english'))]\n",
    "    words = [lemmatize.lemmatize(word) for word in words if word not in set(stopwords.words('english'))]\n",
    "    sentences[i] = ' '.join(words)\n",
    "               "
   ]
  },
  {
   "cell_type": "code",
   "execution_count": 7,
   "id": "ca797738",
   "metadata": {},
   "outputs": [
    {
     "data": {
      "text/plain": [
       "['What make angry someone time .',\n",
       " \"I always habit time someone n't I really angry .\",\n",
       " 'It friend well I give time meet 2 instance late I leave wait minute .',\n",
       " 'I think everyone make habit time good healthy activity .',\n",
       " 'Making someone wait good habit .',\n",
       " 'The reason make angry indicates respecting person , person priority order show someone really important matter , respect meeting time gave .']"
      ]
     },
     "execution_count": 7,
     "metadata": {},
     "output_type": "execute_result"
    }
   ],
   "source": [
    "sentences ## Its lemmatized, you can also use stemmiung here "
   ]
  }
 ],
 "metadata": {
  "kernelspec": {
   "display_name": "Python 3",
   "language": "python",
   "name": "python3"
  },
  "language_info": {
   "codemirror_mode": {
    "name": "ipython",
    "version": 3
   },
   "file_extension": ".py",
   "mimetype": "text/x-python",
   "name": "python",
   "nbconvert_exporter": "python",
   "pygments_lexer": "ipython3",
   "version": "3.8.10"
  }
 },
 "nbformat": 4,
 "nbformat_minor": 5
}
