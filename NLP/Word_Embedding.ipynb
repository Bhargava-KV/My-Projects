{
 "cells": [
  {
   "cell_type": "markdown",
   "id": "9d9ee1d6",
   "metadata": {},
   "source": [
    "### Word Embedding "
   ]
  },
  {
   "cell_type": "code",
   "execution_count": 1,
   "id": "b51cd4c5",
   "metadata": {},
   "outputs": [],
   "source": [
    "from tensorflow.keras.preprocessing.text import one_hot"
   ]
  },
  {
   "cell_type": "code",
   "execution_count": 2,
   "id": "c5932166",
   "metadata": {},
   "outputs": [],
   "source": [
    "## Importing the libraries and defining a sentence \n",
    "import nltk\n",
    "\n",
    "sent=[  'the glass of milk',\n",
    "     'the glass of juice',\n",
    "     'the cup of tea',\n",
    "    'I am a good boy',\n",
    "     'I am a good developer',\n",
    "     'understand the meaning of words',\n",
    "     'your videos are good',]\n"
   ]
  },
  {
   "cell_type": "code",
   "execution_count": 3,
   "id": "b91cf133",
   "metadata": {},
   "outputs": [],
   "source": [
    "## Vocabulary size\n",
    "\n",
    "vocab_size = 10000\n",
    "\n",
    "## One hot trepresentation\n",
    "\n",
    "one_hot_rep = [one_hot(words,vocab_size) for words in sent]"
   ]
  },
  {
   "cell_type": "code",
   "execution_count": 4,
   "id": "f08fd583",
   "metadata": {},
   "outputs": [],
   "source": [
    "## Word embeddings\n",
    "\n",
    "from keras.layers import Embedding\n",
    "from keras.preprocessing.sequence import pad_sequences\n",
    "from keras.models import Sequential\n",
    "import numpy as np\n",
    "\n",
    "sent_length = 8\n",
    "embedded_docs = pad_sequences(one_hot_rep,padding='pre',maxlen=sent_length)"
   ]
  },
  {
   "cell_type": "code",
   "execution_count": 5,
   "id": "8e38054a",
   "metadata": {},
   "outputs": [
    {
     "name": "stdout",
     "output_type": "stream",
     "text": [
      "WARNING:tensorflow:Model was constructed with shape (None, 8) for input KerasTensor(type_spec=TensorSpec(shape=(None, 8), dtype=tf.float32, name='embedding_input'), name='embedding_input', description=\"created by layer 'embedding_input'\"), but it was called on an input with incompatible shape (None, 1).\n",
      "[[[ 0.0132056  -0.04614213 -0.02478805  0.02485973  0.03451825\n",
      "   -0.03407728 -0.03719588 -0.04466472 -0.04385079 -0.02009156]]\n",
      "\n",
      " [[ 0.0132056  -0.04614213 -0.02478805  0.02485973  0.03451825\n",
      "   -0.03407728 -0.03719588 -0.04466472 -0.04385079 -0.02009156]]\n",
      "\n",
      " [[ 0.0132056  -0.04614213 -0.02478805  0.02485973  0.03451825\n",
      "   -0.03407728 -0.03719588 -0.04466472 -0.04385079 -0.02009156]]\n",
      "\n",
      " [[ 0.0132056  -0.04614213 -0.02478805  0.02485973  0.03451825\n",
      "   -0.03407728 -0.03719588 -0.04466472 -0.04385079 -0.02009156]]\n",
      "\n",
      " [[-0.04238281  0.00772364 -0.02612512  0.023341    0.03918649\n",
      "   -0.02320021 -0.04960252  0.03833339 -0.04929873  0.02675675]]\n",
      "\n",
      " [[-0.03811023 -0.04952339 -0.03617948 -0.0281747  -0.03462523\n",
      "    0.03041614  0.04256311  0.03919944  0.03853041 -0.01934731]]\n",
      "\n",
      " [[ 0.0386791   0.04124634  0.04703662 -0.02374621  0.03988084\n",
      "    0.00892091  0.00635942 -0.01653792  0.01255905  0.00223257]]\n",
      "\n",
      " [[ 0.03496251  0.02458383  0.04628147  0.01597754 -0.025839\n",
      "   -0.03523306 -0.01270765  0.03000914 -0.02091218  0.02589364]]]\n"
     ]
    }
   ],
   "source": [
    "## Setting the dimension\n",
    "\n",
    "dim = 10\n",
    "\n",
    "model=Sequential()\n",
    "model.add(Embedding(vocab_size,10,input_length=sent_length))\n",
    "model.compile('adam','mse')\n",
    "\n",
    "embedded_docs[0]\n",
    "\n",
    "print(model.predict(embedded_docs[0]))"
   ]
  },
  {
   "cell_type": "code",
   "execution_count": null,
   "id": "caea288a",
   "metadata": {},
   "outputs": [],
   "source": []
  }
 ],
 "metadata": {
  "kernelspec": {
   "display_name": "Python 3",
   "language": "python",
   "name": "python3"
  },
  "language_info": {
   "codemirror_mode": {
    "name": "ipython",
    "version": 3
   },
   "file_extension": ".py",
   "mimetype": "text/x-python",
   "name": "python",
   "nbconvert_exporter": "python",
   "pygments_lexer": "ipython3",
   "version": "3.8.10"
  }
 },
 "nbformat": 4,
 "nbformat_minor": 5
}
