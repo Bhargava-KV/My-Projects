{
 "cells": [
  {
   "cell_type": "markdown",
   "id": "42e62b8c",
   "metadata": {},
   "source": [
    "### TF-IDF"
   ]
  },
  {
   "cell_type": "code",
   "execution_count": 1,
   "id": "2553734e",
   "metadata": {},
   "outputs": [],
   "source": [
    "## Importing libraries\n",
    "\n",
    "import nltk\n"
   ]
  },
  {
   "cell_type": "code",
   "execution_count": 2,
   "id": "953f327b",
   "metadata": {},
   "outputs": [],
   "source": [
    "## Defining paragraph\n",
    "\n",
    "paragraph = '''\n",
    "What makes me angry is that when someone is not on time. I have always had a habit to be on time and when someone doesn't do the same I am really angry.\n",
    "\n",
    "It is with my friends as well I give them time to meet me at 2 for instance and they are late I will leave and will not wait for them any more minute.\n",
    "\n",
    "I think everyone should make it their habit to be on time because it is a good and healthy activity. Making someone wait is not a good habit.\n",
    "\n",
    "The reason why this makes me angry is that this indicates you are not respecting the other person, the other person should be your priority and in order to show someone that they are really important and they matter to you, respect them by meeting them on the time you gave them.\n",
    "'''"
   ]
  },
  {
   "cell_type": "code",
   "execution_count": 3,
   "id": "704f7c7a",
   "metadata": {},
   "outputs": [],
   "source": [
    " ## Cleaning the data\n",
    "from nltk.corpus import stopwords\n",
    "from nltk.stem import WordNetLemmatizer\n",
    "import re\n",
    " \n",
    "sentences = nltk.sent_tokenize(paragraph)\n",
    "wordnet = WordNetLemmatizer()\n",
    "corpus=[]\n",
    "\n",
    "for i in range(len(sentences)):\n",
    "    words = re.sub('[^a-zA-z]', ' ', sentences[i])\n",
    "    words = words.lower()\n",
    "    words = words.split()\n",
    "    words = [wordnet.lemmatize(word) for word in words if word not in set(stopwords.words('english'))]\n",
    "    words = ' '.join(words)\n",
    "    corpus.append(words)\n"
   ]
  },
  {
   "cell_type": "code",
   "execution_count": 4,
   "id": "ea2cfbc7",
   "metadata": {},
   "outputs": [],
   "source": [
    "## Implementing TF-IDF\n",
    "from sklearn.feature_extraction.text import TfidfVectorizer\n",
    "cv = TfidfVectorizer()\n",
    "X = cv.fit_transform(corpus).toarray()"
   ]
  },
  {
   "cell_type": "code",
   "execution_count": 5,
   "id": "e51142a3",
   "metadata": {},
   "outputs": [
    {
     "data": {
      "text/plain": [
       "array([[0.        , 0.        , 0.5519934 , 0.        , 0.        ,\n",
       "        0.        , 0.        , 0.        , 0.        , 0.        ,\n",
       "        0.        , 0.        , 0.        , 0.        , 0.        ,\n",
       "        0.5519934 , 0.        , 0.        , 0.        , 0.        ,\n",
       "        0.        , 0.        , 0.        , 0.        , 0.        ,\n",
       "        0.        , 0.        , 0.        , 0.        , 0.47301641,\n",
       "        0.        , 0.40848751, 0.        , 0.        ],\n",
       "       [0.        , 0.55508876, 0.38429485, 0.        , 0.        ,\n",
       "        0.        , 0.        , 0.        , 0.38429485, 0.        ,\n",
       "        0.        , 0.        , 0.        , 0.        , 0.        ,\n",
       "        0.        , 0.        , 0.        , 0.        , 0.        ,\n",
       "        0.        , 0.        , 0.        , 0.        , 0.45518073,\n",
       "        0.        , 0.        , 0.        , 0.        , 0.32931149,\n",
       "        0.        , 0.28438681, 0.        , 0.        ],\n",
       "       [0.        , 0.        , 0.        , 0.        , 0.33454543,\n",
       "        0.        , 0.33454543, 0.        , 0.        , 0.        ,\n",
       "        0.        , 0.        , 0.33454543, 0.33454543, 0.33454543,\n",
       "        0.        , 0.        , 0.        , 0.33454543, 0.        ,\n",
       "        0.33454543, 0.        , 0.        , 0.        , 0.        ,\n",
       "        0.        , 0.        , 0.        , 0.        , 0.        ,\n",
       "        0.        , 0.17139656, 0.27433204, 0.33454543],\n",
       "       [0.41192062, 0.        , 0.        , 0.41192062, 0.        ,\n",
       "        0.        , 0.        , 0.3377808 , 0.28517776, 0.41192062,\n",
       "        0.        , 0.        , 0.        , 0.        , 0.        ,\n",
       "        0.28517776, 0.        , 0.        , 0.        , 0.        ,\n",
       "        0.        , 0.        , 0.        , 0.        , 0.        ,\n",
       "        0.        , 0.        , 0.        , 0.        , 0.        ,\n",
       "        0.41192062, 0.21103794, 0.        , 0.        ],\n",
       "       [0.        , 0.        , 0.        , 0.        , 0.        ,\n",
       "        0.        , 0.        , 0.46012344, 0.38846782, 0.        ,\n",
       "        0.        , 0.        , 0.        , 0.        , 0.        ,\n",
       "        0.        , 0.56111636, 0.        , 0.        , 0.        ,\n",
       "        0.        , 0.        , 0.        , 0.        , 0.        ,\n",
       "        0.        , 0.        , 0.        , 0.        , 0.33288741,\n",
       "        0.        , 0.        , 0.46012344, 0.        ],\n",
       "       [0.        , 0.        , 0.16671122, 0.        , 0.        ,\n",
       "        0.24080346, 0.        , 0.        , 0.        , 0.        ,\n",
       "        0.24080346, 0.24080346, 0.        , 0.        , 0.        ,\n",
       "        0.16671122, 0.        , 0.24080346, 0.        , 0.24080346,\n",
       "        0.        , 0.24080346, 0.48160691, 0.24080346, 0.19746228,\n",
       "        0.24080346, 0.24080346, 0.24080346, 0.24080346, 0.14285885,\n",
       "        0.        , 0.12337005, 0.        , 0.        ]])"
      ]
     },
     "execution_count": 5,
     "metadata": {},
     "output_type": "execute_result"
    }
   ],
   "source": [
    "X"
   ]
  }
 ],
 "metadata": {
  "kernelspec": {
   "display_name": "Python 3",
   "language": "python",
   "name": "python3"
  },
  "language_info": {
   "codemirror_mode": {
    "name": "ipython",
    "version": 3
   },
   "file_extension": ".py",
   "mimetype": "text/x-python",
   "name": "python",
   "nbconvert_exporter": "python",
   "pygments_lexer": "ipython3",
   "version": "3.8.10"
  }
 },
 "nbformat": 4,
 "nbformat_minor": 5
}
